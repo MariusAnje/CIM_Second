{
 "cells": [
  {
   "cell_type": "code",
   "execution_count": 2,
   "metadata": {},
   "outputs": [],
   "source": [
    "import numpy as np\n",
    "import os\n",
    "from matplotlib import pyplot as plt"
   ]
  },
  {
   "cell_type": "code",
   "execution_count": 13,
   "metadata": {},
   "outputs": [],
   "source": [
    "def detect_namespace(namespace:str):\n",
    "    content = namespace[namespace.find(\"(\")+1:-1].split(\", \")\n",
    "    arg_dict = {}\n",
    "    for arg in content:\n",
    "        arg_type, arg_value = arg.split(\"=\")\n",
    "        arg_dict[arg_type] = arg_value\n",
    "    return arg_dict\n",
    "\n",
    "def get_acc(line:str, delimiter=\":\", precision=4):\n",
    "    index = line.find(delimiter) + len(delimiter)\n",
    "    acc = line[index:index + 3 + precision]\n",
    "    return float(acc)\n",
    "\n",
    "def get_std(line:str, delimiter=\"std:\", precision=4):\n",
    "    index = line.find(delimiter) + len(delimiter)\n",
    "    acc = line[index:index + 3 + precision]\n",
    "    return float(acc)\n",
    "\n",
    "def get_rm(line:str, delimiter=\"removed\", precision=4):\n",
    "    index = line.find(delimiter) + len(delimiter)\n",
    "    acc = line[index:index + 3 + precision]\n",
    "    return float(acc)\n",
    "\n",
    "def get_scnd(line:str, delimiter=\"masking:\", precision=4):\n",
    "    index = line.find(delimiter) + len(delimiter)\n",
    "    scnd = line[index:]\n",
    "    return float(scnd)\n",
    "\n",
    "\n",
    "def parse_file(f):\n",
    "    for line in f:\n",
    "        if line.find(\"Namespace\") != -1:\n",
    "            arg_dict = detect_namespace(line)\n",
    "        if line.find(\"No mask no noise\") != -1:\n",
    "            acc = get_acc(line)\n",
    "        if line.find(\"No mask noise average acc\") != -1:\n",
    "            NM = get_acc(line)\n",
    "            NM_std = get_std(line)\n",
    "        if line.find(\"S grad before masking:\") != -1:\n",
    "            scnd = get_scnd(line)\n",
    "    if NM == 0:\n",
    "        raise Exception\n",
    "    return arg_dict, acc, NM, NM_std, scnd\n",
    "\n",
    "def parse_file_rec(f):\n",
    "    acc_L = []\n",
    "    NM_L = []\n",
    "    NM_std_L = []\n",
    "    acc_L = []\n",
    "    each_L = []\n",
    "    scnd_L = []\n",
    "    for line in f:\n",
    "        if line.find(\"Namespace\") != -1:\n",
    "            arg_dict = detect_namespace(line)\n",
    "        if line.find(\"No mask no noise:\") != -1:\n",
    "            acc = get_acc(line)\n",
    "            acc_L.append(acc)\n",
    "        if line.find(\"No mask noise each:\") != -1:\n",
    "            each = get_acc(line)\n",
    "            each_L.append(each)\n",
    "        if line.find(\"No mask noise average acc\") != -1:\n",
    "            NM = get_acc(line)\n",
    "            NM_std = get_std(line)\n",
    "            NM_L.append(NM)\n",
    "            NM_std_L.append(NM_std)\n",
    "        if line.find(\"S grad before masking:\") != -1:\n",
    "            scnd = get_scnd(line)\n",
    "            scnd_L.append(scnd)\n",
    "    if NM == 0:\n",
    "        raise Exception\n",
    "    return arg_dict, acc_L, each_L, NM_L, NM_std_L, scnd_L\n"
   ]
  },
  {
   "cell_type": "code",
   "execution_count": 14,
   "metadata": {},
   "outputs": [],
   "source": [
    "def find_files(dir_path):\n",
    "    file_blob = os.listdir(dir_path)\n",
    "    acc_1 = []\n",
    "    NM_1 = []\n",
    "    scnd_1 = []\n",
    "    for fn in file_blob:\n",
    "        # cfn = os.path.join(dir_path, fn)\n",
    "        # with open(cfn) as f:\n",
    "        #     f = f.read().split(\"\\n\")\n",
    "        # arg_dict, NM, FT, NM_std, FT_std, RM = parse_file(f)\n",
    "        cfn = os.path.join(dir_path, fn)\n",
    "        with open(cfn) as f:\n",
    "            f = f.read().split(\"\\n\")\n",
    "        # try:\n",
    "        arg_dict, acc, NM, NM_std, scnd = parse_file(f)\n",
    "        acc_1.append(acc)\n",
    "        NM_1.append(NM)\n",
    "        scnd_1.append(scnd)\n",
    "    acc_1 = np.array(acc_1)\n",
    "    NM_1 = np.array(NM_1)\n",
    "    scnd_1 = np.array(scnd_1)\n",
    "    return acc_1, NM_1, scnd_1\n",
    "\n",
    "dir_path = \"./NAS/0.1-0.1/\"\n",
    "acc_1, NM_1, scnd_1 = find_files(dir_path)\n",
    "dir_path = \"./NAS/0.2-0.2/\"\n",
    "acc_2, NM_2, scnd_2 = find_files(dir_path)\n",
    "dir_path = \"./NAS/0.3-0.3/\"\n",
    "acc_3, NM_3, scnd_3 = find_files(dir_path)"
   ]
  },
  {
   "cell_type": "code",
   "execution_count": 15,
   "metadata": {},
   "outputs": [
    {
     "name": "stdout",
     "output_type": "stream",
     "text": [
      "[0.9388 0.9344 0.9385 ... 0.9894 0.9888 0.9905]\n"
     ]
    }
   ],
   "source": [
    "dir_path = \"./NAS/Each/\"\n",
    "file_blob = os.listdir(dir_path)\n",
    "acc_1 = []\n",
    "NM_1 = []\n",
    "scnd_1 = []\n",
    "each_1 = []\n",
    "for fn in file_blob:\n",
    "    # cfn = os.path.join(dir_path, fn)\n",
    "    # with open(cfn) as f:\n",
    "    #     f = f.read().split(\"\\n\")\n",
    "    # arg_dict, NM, FT, NM_std, FT_std, RM = parse_file(f)\n",
    "    cfn = os.path.join(dir_path, fn)\n",
    "    with open(cfn) as f:\n",
    "        f = f.read().split(\"\\n\")\n",
    "    # try:\n",
    "    arg_dict, acc, each, NM, NM_std, scnd = parse_file_rec(f)\n",
    "    acc_1 += acc\n",
    "    NM_1 += NM\n",
    "    scnd_1 += scnd\n",
    "    each_1 += each\n",
    "acc_1 = np.array(acc_1)\n",
    "NM_1 = np.array(NM_1)\n",
    "scnd_1 = np.array(scnd_1)\n",
    "each_1 = np.array(each_1)\n",
    "print(each_1)"
   ]
  },
  {
   "cell_type": "code",
   "execution_count": 16,
   "metadata": {},
   "outputs": [
    {
     "data": {
      "text/plain": [
       "Text(0.5, 0, 'Accuracy')"
      ]
     },
     "execution_count": 16,
     "metadata": {},
     "output_type": "execute_result"
    },
    {
     "data": {
      "image/png": "[encoded data removed]",
      "text/plain": [
       "<Figure size 432x288 with 1 Axes>"
      ]
     },
     "metadata": {
      "needs_background": "light"
     },
     "output_type": "display_data"
    }
   ],
   "source": [
    "plt.scatter(NM_1, scnd_1)\n",
    "plt.ylabel(\"2nd derivative\", fontsize=12)\n",
    "plt.xlabel(\"Accuracy\", fontsize=12)"
   ]
  },
  {
   "cell_type": "code",
   "execution_count": 17,
   "metadata": {},
   "outputs": [
    {
     "data": {
      "text/plain": [
       "Text(0.5, 0, 'Accuracy Drop')"
      ]
     },
     "execution_count": 17,
     "metadata": {},
     "output_type": "execute_result"
    },
    {
     "data": {
      "image/png": "[encoded data removed]",
      "text/plain": [
       "<Figure size 432x288 with 1 Axes>"
      ]
     },
     "metadata": {
      "needs_background": "light"
     },
     "output_type": "display_data"
    }
   ],
   "source": [
    "plt.scatter(acc_1 - NM_1, scnd_1)\n",
    "plt.ylabel(\"2nd derivative\", fontsize=12)\n",
    "plt.xlabel(\"Accuracy Drop\", fontsize=12)"
   ]
  },
  {
   "cell_type": "code",
   "execution_count": 19,
   "metadata": {},
   "outputs": [
    {
     "data": {
      "text/plain": [
       "Text(0.5, 0, 'Accuracy')"
      ]
     },
     "execution_count": 19,
     "metadata": {},
     "output_type": "execute_result"
    },
    {
     "data": {
      "image/png": "[encoded data removed]",
      "text/plain": [
       "<Figure size 432x288 with 1 Axes>"
      ]
     },
     "metadata": {
      "needs_background": "light"
     },
     "output_type": "display_data"
    }
   ],
   "source": [
    "plt.scatter(NM_1, each_1)\n",
    "plt.ylabel(\"2nd derivative\", fontsize=12)\n",
    "plt.xlabel(\"Accuracy\", fontsize=12)"
   ]
  },
  {
   "cell_type": "code",
   "execution_count": 41,
   "metadata": {},
   "outputs": [],
   "source": [
    "ch1L = [ 6, 12, 24]\n",
    "ch2L = [16, 32, 64]\n",
    "kN1L = [1, 3, 5, 7]\n",
    "kN2L = [1, 3, 5, 7]\n",
    "Y = []\n",
    "n_files = 8\n",
    "n_archs = len(NM_1)//n_files\n",
    "for i in range(n_archs):\n",
    "    this_instance = 0\n",
    "    for j in range(n_files):\n",
    "        this_instance += NM_1[j * n_archs + i]\n",
    "    Y.append(this_instance / n_files)\n",
    "\n",
    "X = []\n",
    "for i in range(n_archs):\n",
    "    ch1L = [ 6, 12, 24]\n",
    "    ch2L = [16, 32, 64]\n",
    "    kN1L = [1, 3, 5, 7]\n",
    "    kN2L = [1, 3, 5, 7]\n",
    "    hot = [[0 for _ in range(3)], [0 for _ in range(3)], [0 for _ in range(4)], [0 for _ in range(4)]]\n",
    "    ch1I = i % len(ch1L)\n",
    "    ch2I = (i // len(ch1L)) % len(ch2L)\n",
    "    kN1I = (i // len(ch1L) // len(ch2L)) % len(kN1L)\n",
    "    kN2I = (i // len(ch1L) // len(ch2L) // len(kN1L)) % len(kN2L)\n",
    "    hot[0][ch1I] = 1\n",
    "    hot[1][ch2I] = 1\n",
    "    hot[2][kN1I] = 1\n",
    "    hot[3][kN2I] = 1\n",
    "    h = []\n",
    "    for i in range(len(hot)):\n",
    "        h += hot[i]\n",
    "    X.append(h)"
   ]
  },
  {
   "cell_type": "code",
   "execution_count": 68,
   "metadata": {},
   "outputs": [],
   "source": [
    "import torch\n",
    "from torch import nn\n",
    "\n",
    "class Regressor(nn.Module):\n",
    "    def __init__(self):\n",
    "        super().__init__()\n",
    "        self.fc1 = nn.Linear(14, 30)\n",
    "        self.fc2 = nn.Linear(30, 1)\n",
    "        self.act = nn.ReLU()\n",
    "        self.sig = nn.Sigmoid()\n",
    "    \n",
    "    def forward(self, x):\n",
    "        x = self.fc1(x)\n",
    "        x = self.act(x)\n",
    "        x = self.fc2(x)\n",
    "        x = self.sig(x)\n",
    "        return x    \n",
    "\n",
    "def Train(epochs, verbose=False):\n",
    "    best_acc = 0.0\n",
    "    for i in range(epochs):\n",
    "        model.train()\n",
    "        running_loss = 0.\n",
    "        # for images, labels in tqdm(trainloader):\n",
    "        for images, labels in trainloader:\n",
    "            optimizer.zero_grad()\n",
    "            images, labels = images.to(device), labels.to(device)\n",
    "            # images = images.view(-1, 784)\n",
    "            outputs = model(images)\n",
    "            loss = criteria(outputs,labels)\n",
    "            loss.backward()\n",
    "            optimizer.step()\n",
    "            running_loss += loss.item()\n",
    "        if verbose == True:\n",
    "            if i % (epochs // 10) == 0:\n",
    "                print(running_loss)\n"
   ]
  },
  {
   "cell_type": "code",
   "execution_count": 71,
   "metadata": {},
   "outputs": [
    {
     "data": {
      "text/plain": [
       "Regressor(\n",
       "  (fc1): Linear(in_features=14, out_features=30, bias=True)\n",
       "  (fc2): Linear(in_features=30, out_features=1, bias=True)\n",
       "  (act): ReLU()\n",
       "  (sig): Sigmoid()\n",
       ")"
      ]
     },
     "execution_count": 71,
     "metadata": {},
     "output_type": "execute_result"
    }
   ],
   "source": [
    "model = Regressor()\n",
    "dataset = []\n",
    "for i in range(144):\n",
    "    dataset.append((torch.Tensor(X[i]), torch.Tensor([float(Y[i])])))\n",
    "\n",
    "trainloader = torch.utils.data.DataLoader(dataset, batch_size=16, shuffle=True, num_workers=2)\n",
    "optimizer = torch.optim.SGD(model.parameters(), lr = 1e-3, momentum=0.9)\n",
    "criteria = torch.nn.MSELoss()\n",
    "device = torch.device(\"cuda:0\")\n",
    "model.to(device)"
   ]
  },
  {
   "cell_type": "code",
   "execution_count": 72,
   "metadata": {},
   "outputs": [
    {
     "name": "stdout",
     "output_type": "stream",
     "text": [
      "0.0018707051494857296\n",
      "0.0018414404585200828\n",
      "0.0018129194650100544\n",
      "0.001787425642760354\n",
      "0.0017639037505432498\n",
      "0.0017426377125957515\n",
      "0.001723017976473784\n",
      "0.0017050839815055951\n",
      "0.0016883932294149417\n",
      "0.0016730074712540954\n"
     ]
    }
   ],
   "source": [
    "optimizer = torch.optim.SGD(model.parameters(), lr = 1e-1, momentum=0.9)\n",
    "# optimizer = torch.optim.Adam(model.parameters(), lr = 1e-1)\n",
    "Train(3)\n",
    "optimizer = torch.optim.SGD(model.parameters(), lr = 1e-2, momentum=0.9)\n",
    "# optimizer = torch.optim.Adam(model.parameters(), lr = 1e-1)\n",
    "Train(100, True)"
   ]
  },
  {
   "cell_type": "code",
   "execution_count": 40,
   "metadata": {},
   "outputs": [
    {
     "name": "stdout",
     "output_type": "stream",
     "text": [
      "tensor([[-0.0490],\n",
      "        [ 0.0214],\n",
      "        [ 0.0952],\n",
      "        [ 0.0120],\n",
      "        [ 0.0090],\n",
      "        [ 0.0168],\n",
      "        [ 0.0102],\n",
      "        [ 0.0121],\n",
      "        [-0.0321],\n",
      "        [ 0.0070],\n",
      "        [ 0.0139],\n",
      "        [-0.0376],\n",
      "        [ 0.0248],\n",
      "        [-0.0059],\n",
      "        [ 0.0315],\n",
      "        [ 0.0053]], device='cuda:0', grad_fn=<SubBackward0>)\n"
     ]
    }
   ],
   "source": [
    "for images, labels in trainloader:\n",
    "    optimizer.zero_grad()\n",
    "    images, labels = images.to(device), labels.to(device)\n",
    "    # images = images.view(-1, 784)\n",
    "    outputs = model(images)\n",
    "    print(outputs - labels)\n",
    "    break"
   ]
  },
  {
   "cell_type": "code",
   "execution_count": 227,
   "metadata": {},
   "outputs": [],
   "source": [
    "import sklearn\n",
    "from sklearn import svm\n",
    "from sklearn.linear_model import SGDRegressor\n",
    "from sklearn.cross_decomposition import PLSRegression\n",
    "from sklearn import tree\n",
    "from sklearn.neural_network import MLPRegressor\n",
    "from sklearn.model_selection import train_test_split\n",
    "from sklearn.metrics import mean_squared_error\n",
    "\n",
    "X_train, X_test, y_train, y_test = train_test_split(X, Y, test_size = 0.8, random_state=1)\n",
    "clf = tree.DecisionTreeRegressor(max_depth=5)\n",
    "# clf = MLPRegressor(random_state=1, max_iter=500, solver=\"sgd\")"
   ]
  },
  {
   "cell_type": "code",
   "execution_count": 228,
   "metadata": {},
   "outputs": [
    {
     "data": {
      "text/plain": [
       "DecisionTreeRegressor(max_depth=5)"
      ]
     },
     "execution_count": 228,
     "metadata": {},
     "output_type": "execute_result"
    }
   ],
   "source": [
    "clf.fit(X_train, y_train)"
   ]
  },
  {
   "cell_type": "code",
   "execution_count": 229,
   "metadata": {},
   "outputs": [
    {
     "name": "stdout",
     "output_type": "stream",
     "text": [
      "0.0020700815786960747\n"
     ]
    }
   ],
   "source": [
    "y_result = clf.predict(X_test)\n",
    "print(np.sqrt(mean_squared_error(y_test, y_result)))"
   ]
  },
  {
   "cell_type": "code",
   "execution_count": 230,
   "metadata": {},
   "outputs": [
    {
     "name": "stdout",
     "output_type": "stream",
     "text": [
      "0.000278473397357321\n"
     ]
    }
   ],
   "source": [
    "y_result = clf.predict(X_train)\n",
    "print(np.sqrt(mean_squared_error(y_train, y_result)))"
   ]
  }
 ],
 "metadata": {
  "interpreter": {
   "hash": "8775ead45cd722ea8a4c7c74215d2f64c2c40d0e28c86b8154e49caf9c5419e8"
  },
  "kernelspec": {
   "display_name": "Python 3.8.12 64-bit ('py38': conda)",
   "name": "python3"
  },
  "language_info": {
   "codemirror_mode": {
    "name": "ipython",
    "version": 3
   },
   "file_extension": ".py",
   "mimetype": "text/x-python",
   "name": "python",
   "nbconvert_exporter": "python",
   "pygments_lexer": "ipython3",
   "version": "3.7.4"
  },
  "orig_nbformat": 2
 },
 "nbformat": 4,
 "nbformat_minor": 2
}
