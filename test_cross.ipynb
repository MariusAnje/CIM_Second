{
 "metadata": {
  "language_info": {
   "codemirror_mode": {
    "name": "ipython",
    "version": 3
   },
   "file_extension": ".py",
   "mimetype": "text/x-python",
   "name": "python",
   "nbconvert_exporter": "python",
   "pygments_lexer": "ipython3",
   "version": "3.6.8"
  },
  "orig_nbformat": 4,
  "kernelspec": {
   "name": "python3",
   "display_name": "Python 3.6.8 64-bit"
  },
  "interpreter": {
   "hash": "f09c96bd4e15584f4d9e293bfe8df79352bc2ff8b62e2c337721549e56de9c71"
  }
 },
 "nbformat": 4,
 "nbformat_minor": 2,
 "cells": [
  {
   "cell_type": "code",
   "execution_count": 1,
   "metadata": {},
   "outputs": [],
   "source": [
    "import torch\n",
    "from modules import SConv2d, SLinear, SModel, SReLU\n",
    "from models import SCrossEntropyLoss"
   ]
  },
  {
   "cell_type": "code",
   "execution_count": 2,
   "metadata": {
    "tags": []
   },
   "outputs": [
    {
     "output_type": "stream",
     "name": "stdout",
     "text": [
      "tensor(0.0126, grad_fn=<SCrossEntropyLossFunctionBackward>)\n"
     ]
    }
   ],
   "source": [
    "fc1 = SLinear(3,3,bias=False)\n",
    "fc1.op.weight.data = torch.Tensor(list(range(1,10))).view(fc1.op.weight.shape) * 0.1\n",
    "# fc1.op.bias.data = torch.zeros_like(fc1.op.bias)\n",
    "fc2 = SLinear(3,3,bias=False)\n",
    "fc2.op.weight.data = torch.Tensor(list(range(9,0,-1))).view(fc2.op.weight.shape) * 0.1\n",
    "fc2.op.weight.data[0,0] = 2\n",
    "# fc2.op.bias.data = torch.zeros_like(fc2.op.bias)\n",
    "relu = SReLU()\n",
    "criteria = SCrossEntropyLoss()\n",
    "optimizer = torch.optim.SGD(list(fc1.parameters()) + list(fc2.parameters()), 1e-1)\n",
    "\n",
    "# for _ in range(1000):\n",
    "#     optimizer.zero_grad()\n",
    "#     x = torch.Tensor([[1,2,3]])\n",
    "#     xS = torch.zeros_like(x)\n",
    "#     labels = torch.LongTensor([0])\n",
    "\n",
    "#     x1, xS1 = fc1(x, xS)\n",
    "#     x1.retain_grad()\n",
    "#     xS1.retain_grad()\n",
    "#     x2, xS2 = relu(x1, xS1)\n",
    "#     x2.retain_grad()\n",
    "#     xS2.retain_grad()\n",
    "#     x3, xS3 = fc2(x2, xS2)\n",
    "#     x3.retain_grad()\n",
    "#     xS3.retain_grad()\n",
    "\n",
    "#     loss = criteria(x3, xS3, labels)\n",
    "#     loss.backward()\n",
    "#     optimizer.step()\n",
    "\n",
    "optimizer = torch.optim.SGD(list(fc1.parameters()) + list(fc2.parameters()), 0)\n",
    "optimizer.zero_grad()\n",
    "x = torch.Tensor([[1,2,3]])\n",
    "# x = torch.Tensor([[1,2,3], [1,2,3]])\n",
    "xS = torch.zeros_like(x)\n",
    "labels = torch.LongTensor([0])\n",
    "# labels = torch.LongTensor([0,0])\n",
    "\n",
    "x1, xS1 = fc1(x, xS)\n",
    "x1.retain_grad()\n",
    "xS1.retain_grad()\n",
    "x2, xS2 = relu(x1, xS1)\n",
    "x2.retain_grad()\n",
    "xS2.retain_grad()\n",
    "x3, xS3 = fc2(x2, xS2)\n",
    "x3.retain_grad()\n",
    "xS3.retain_grad()\n",
    "\n",
    "loss = criteria(x3, xS3, labels)\n",
    "loss.backward()\n",
    "optimizer.step()\n",
    "print(loss)"
   ]
  },
  {
   "cell_type": "code",
   "execution_count": 3,
   "metadata": {},
   "outputs": [],
   "source": [
    "# x3SG = torch.Tensor([[0.0123928,-0.0117341,-0.000658689,-0.0117341,0.011742,-7.92681E-6,-0.000658689,-7.92681E-6,0.000666616]]).view(1,3,3)\n",
    "# x1SG = torch.Tensor([[0.0249031,0.00560088,0.00560088,0.00560088,0.00129391,0.00129391,0.00560088,0.00129391,0.00129391]]).view(1,3,3)"
   ]
  },
  {
   "cell_type": "code",
   "execution_count": 4,
   "metadata": {},
   "outputs": [
    {
     "output_type": "execute_result",
     "data": {
      "text/plain": [
       "tensor([[8.8600, 4.4400, 1.5600]], grad_fn=<SLinearFunctionBackward>)"
      ]
     },
     "metadata": {},
     "execution_count": 4
    }
   ],
   "source": [
    "x3"
   ]
  },
  {
   "cell_type": "code",
   "execution_count": 5,
   "metadata": {},
   "outputs": [],
   "source": [
    "def CECross(output):\n",
    "    BS = output.shape[0]\n",
    "    e3 = (output - output.max()).exp()\n",
    "    e3_sum = e3.sum(dim=1)\n",
    "    ratio = (e3 / e3_sum).view(BS,1,-1)\n",
    "    return (torch.diag_embed(ratio.view(BS,-1),0,1) - ratio.swapaxes(1,2).bmm(ratio))\n",
    "x3SG = CECross(x3)"
   ]
  },
  {
   "cell_type": "code",
   "execution_count": 6,
   "metadata": {},
   "outputs": [
    {
     "output_type": "execute_result",
     "data": {
      "text/plain": [
       "tensor([[[ 1.2393e-02, -1.1734e-02, -6.5869e-04],\n",
       "         [-1.1734e-02,  1.1742e-02, -7.9268e-06],\n",
       "         [-6.5869e-04, -7.9268e-06,  6.6662e-04]]], grad_fn=<SubBackward0>)"
      ]
     },
     "metadata": {},
     "execution_count": 6
    }
   ],
   "source": [
    "x3SG"
   ]
  },
  {
   "cell_type": "code",
   "execution_count": 7,
   "metadata": {},
   "outputs": [],
   "source": [
    "x1SG = fc2.op.weight.t().matmul(x3SG).matmul(fc2.op.weight)"
   ]
  },
  {
   "cell_type": "code",
   "execution_count": 8,
   "metadata": {},
   "outputs": [
    {
     "output_type": "execute_result",
     "data": {
      "text/plain": [
       "tensor([[[0.0249, 0.0056, 0.0056],\n",
       "         [0.0056, 0.0013, 0.0013],\n",
       "         [0.0056, 0.0013, 0.0013]]], grad_fn=<UnsafeViewBackward>)"
      ]
     },
     "metadata": {},
     "execution_count": 8
    }
   ],
   "source": [
    "x1SG"
   ]
  },
  {
   "cell_type": "code",
   "execution_count": 9,
   "metadata": {},
   "outputs": [],
   "source": [
    "def crossSecond(IN, outS):\n",
    "    BS = IN.shape[0]\n",
    "    IN = IN.view(BS,1,-1)\n",
    "    return IN.swapaxes(1,2).bmm(IN).view(BS,-1).t().mm(outS.view(BS,-1))\n",
    "fc1WSG = crossSecond(x,  x1SG)\n",
    "fc2WSG = crossSecond(x2, x3SG)"
   ]
  },
  {
   "cell_type": "code",
   "execution_count": 19,
   "metadata": {},
   "outputs": [
    {
     "output_type": "execute_result",
     "data": {
      "text/plain": [
       "tensor([[0.0249, 0.0056, 0.0056, 0.0498, 0.0112, 0.0112, 0.0747, 0.0168, 0.0168],\n",
       "        [0.0056, 0.0013, 0.0013, 0.0112, 0.0026, 0.0026, 0.0168, 0.0039, 0.0039],\n",
       "        [0.0056, 0.0013, 0.0013, 0.0112, 0.0026, 0.0026, 0.0168, 0.0039, 0.0039],\n",
       "        [0.0498, 0.0112, 0.0112, 0.0996, 0.0224, 0.0224, 0.1494, 0.0336, 0.0336],\n",
       "        [0.0112, 0.0026, 0.0026, 0.0224, 0.0052, 0.0052, 0.0336, 0.0078, 0.0078],\n",
       "        [0.0112, 0.0026, 0.0026, 0.0224, 0.0052, 0.0052, 0.0336, 0.0078, 0.0078],\n",
       "        [0.0747, 0.0168, 0.0168, 0.1494, 0.0336, 0.0336, 0.2241, 0.0504, 0.0504],\n",
       "        [0.0168, 0.0039, 0.0039, 0.0336, 0.0078, 0.0078, 0.0504, 0.0116, 0.0116],\n",
       "        [0.0168, 0.0039, 0.0039, 0.0336, 0.0078, 0.0078, 0.0504, 0.0116, 0.0116]],\n",
       "       grad_fn=<UnsafeViewBackward>)"
      ]
     },
     "metadata": {},
     "execution_count": 19
    }
   ],
   "source": [
    "fc1WSG.view(3,3,3,3).swapaxes(0,2).swapaxes(0,1).reshape(9,9)"
   ]
  },
  {
   "cell_type": "code",
   "execution_count": 13,
   "metadata": {},
   "outputs": [
    {
     "output_type": "stream",
     "name": "stdout",
     "text": [
      "tensor([[0.0249, 0.0056, 0.0056, 0.0498, 0.0112, 0.0112, 0.0747, 0.0168, 0.0168],\n        [0.0056, 0.0013, 0.0013, 0.0112, 0.0026, 0.0026, 0.0168, 0.0039, 0.0039],\n        [0.0056, 0.0013, 0.0013, 0.0112, 0.0026, 0.0026, 0.0168, 0.0039, 0.0039],\n        [0.0498, 0.0112, 0.0112, 0.0996, 0.0224, 0.0224, 0.1494, 0.0336, 0.0336],\n        [0.0112, 0.0026, 0.0026, 0.0224, 0.0052, 0.0052, 0.0336, 0.0078, 0.0078],\n        [0.0112, 0.0026, 0.0026, 0.0224, 0.0052, 0.0052, 0.0336, 0.0078, 0.0078],\n        [0.0747, 0.0168, 0.0168, 0.1494, 0.0336, 0.0336, 0.2241, 0.0504, 0.0504],\n        [0.0168, 0.0039, 0.0039, 0.0336, 0.0078, 0.0078, 0.0504, 0.0116, 0.0116],\n        [0.0168, 0.0039, 0.0039, 0.0336, 0.0078, 0.0078, 0.0504, 0.0116, 0.0116]],\n       grad_fn=<CopySlices>)\ntensor([0.0249, 0.0013, 0.0013, 0.0996, 0.0052, 0.0052, 0.2241, 0.0116, 0.0116],\n       grad_fn=<DiagBackward>)\ntensor(0.2241, grad_fn=<MaxBackward1>)\n"
     ]
    }
   ],
   "source": [
    "c = torch.zeros(9,9)\n",
    "for i in range(9):\n",
    "    for j in range(9):\n",
    "        xa = i // 3\n",
    "        xb = i % 3\n",
    "        ya = j // 3\n",
    "        yb = j % 3\n",
    "        c[xa*3 + ya, xb * 3 + yb] = fc1WSG[i,j]\n",
    "print(c)\n",
    "print(c.diag())\n",
    "print(c.max())"
   ]
  },
  {
   "cell_type": "code",
   "execution_count": 14,
   "metadata": {},
   "outputs": [
    {
     "output_type": "execute_result",
     "data": {
      "text/plain": [
       "tensor([[0.0249, 0.0056, 0.0056, 0.0056, 0.0013, 0.0013, 0.0056, 0.0013, 0.0013],\n",
       "        [0.0498, 0.0112, 0.0112, 0.0112, 0.0026, 0.0026, 0.0112, 0.0026, 0.0026],\n",
       "        [0.0747, 0.0168, 0.0168, 0.0168, 0.0039, 0.0039, 0.0168, 0.0039, 0.0039],\n",
       "        [0.0498, 0.0112, 0.0112, 0.0112, 0.0026, 0.0026, 0.0112, 0.0026, 0.0026],\n",
       "        [0.0996, 0.0224, 0.0224, 0.0224, 0.0052, 0.0052, 0.0224, 0.0052, 0.0052],\n",
       "        [0.1494, 0.0336, 0.0336, 0.0336, 0.0078, 0.0078, 0.0336, 0.0078, 0.0078],\n",
       "        [0.0747, 0.0168, 0.0168, 0.0168, 0.0039, 0.0039, 0.0168, 0.0039, 0.0039],\n",
       "        [0.1494, 0.0336, 0.0336, 0.0336, 0.0078, 0.0078, 0.0336, 0.0078, 0.0078],\n",
       "        [0.2241, 0.0504, 0.0504, 0.0504, 0.0116, 0.0116, 0.0504, 0.0116, 0.0116]],\n",
       "       grad_fn=<MmBackward>)"
      ]
     },
     "metadata": {},
     "execution_count": 14
    }
   ],
   "source": [
    "fc1WSG"
   ]
  },
  {
   "cell_type": "code",
   "execution_count": 48,
   "metadata": {},
   "outputs": [
    {
     "output_type": "execute_result",
     "data": {
      "text/plain": [
       "tensor([[ 2.4290e-02, -2.2999e-02, -1.2910e-03, -2.2999e-02,  2.3014e-02,\n",
       "         -1.5537e-05, -1.2910e-03, -1.5537e-05,  1.3066e-03],\n",
       "        [ 5.5519e-02, -5.2569e-02, -2.9509e-03, -5.2569e-02,  5.2604e-02,\n",
       "         -3.5512e-05, -2.9509e-03, -3.5512e-05,  2.9864e-03],\n",
       "        [ 8.6749e-02, -8.2138e-02, -4.6108e-03, -8.2138e-02,  8.2194e-02,\n",
       "         -5.5488e-05, -4.6108e-03, -5.5488e-05,  4.6663e-03],\n",
       "        [ 5.5519e-02, -5.2569e-02, -2.9509e-03, -5.2569e-02,  5.2604e-02,\n",
       "         -3.5512e-05, -2.9509e-03, -3.5512e-05,  2.9864e-03],\n",
       "        [ 1.2690e-01, -1.2016e-01, -6.7450e-03, -1.2016e-01,  1.2024e-01,\n",
       "         -8.1170e-05, -6.7450e-03, -8.1170e-05,  6.8261e-03],\n",
       "        [ 1.9828e-01, -1.8774e-01, -1.0539e-02, -1.8774e-01,  1.8787e-01,\n",
       "         -1.2683e-04, -1.0539e-02, -1.2683e-04,  1.0666e-02],\n",
       "        [ 8.6749e-02, -8.2138e-02, -4.6108e-03, -8.2138e-02,  8.2194e-02,\n",
       "         -5.5488e-05, -4.6108e-03, -5.5488e-05,  4.6663e-03],\n",
       "        [ 1.9828e-01, -1.8774e-01, -1.0539e-02, -1.8774e-01,  1.8787e-01,\n",
       "         -1.2683e-04, -1.0539e-02, -1.2683e-04,  1.0666e-02],\n",
       "        [ 3.0982e-01, -2.9335e-01, -1.6467e-02, -2.9335e-01,  2.9355e-01,\n",
       "         -1.9817e-04, -1.6467e-02, -1.9817e-04,  1.6665e-02]],\n",
       "       grad_fn=<MmBackward>)"
      ]
     },
     "metadata": {},
     "execution_count": 48
    }
   ],
   "source": [
    "fc2WSG"
   ]
  },
  {
   "cell_type": "code",
   "execution_count": 10,
   "metadata": {},
   "outputs": [
    {
     "output_type": "execute_result",
     "data": {
      "text/plain": [
       "tensor([4, 5, 7, 1, 3, 8, 6, 2, 0])"
      ]
     },
     "metadata": {},
     "execution_count": 10
    }
   ],
   "source": [
    "fc1WSG.view(9,9).diag().view(-1).sort()[1]"
   ]
  },
  {
   "cell_type": "code",
   "execution_count": 11,
   "metadata": {},
   "outputs": [
    {
     "output_type": "execute_result",
     "data": {
      "text/plain": [
       "tensor([6, 3, 7, 4, 0, 8, 5, 1, 2])"
      ]
     },
     "metadata": {},
     "execution_count": 11
    }
   ],
   "source": [
    "fc1.weightS.grad.view(-1).sort()[1]"
   ]
  },
  {
   "cell_type": "code",
   "execution_count": 64,
   "metadata": {},
   "outputs": [
    {
     "output_type": "execute_result",
     "data": {
      "text/plain": [
       "torch.Size([3, 10, 10])"
      ]
     },
     "metadata": {},
     "execution_count": 64
    }
   ],
   "source": [
    "O = torch.ones(3,2,2)\n",
    "I = torch.ones(3,10)\n",
    "a = torch.nn.Linear(10,2)\n",
    "a.weight.t().matmul(O).matmul(a.weight).shape"
   ]
  },
  {
   "cell_type": "code",
   "execution_count": 65,
   "metadata": {},
   "outputs": [
    {
     "output_type": "execute_result",
     "data": {
      "text/plain": [
       "tensor([[-0.7404, -0.0510],\n",
       "        [-0.7404, -0.0510],\n",
       "        [-0.7404, -0.0510]], grad_fn=<MmBackward>)"
      ]
     },
     "metadata": {},
     "execution_count": 65
    }
   ],
   "source": [
    "I.mm(a.weight.t())"
   ]
  },
  {
   "cell_type": "code",
   "execution_count": 1,
   "metadata": {},
   "outputs": [
    {
     "output_type": "stream",
     "name": "stdout",
     "text": [
      "tensor(0.0126, grad_fn=<NllLossBackward>)\n"
     ]
    }
   ],
   "source": [
    "from Cmodules import CLinear, CCrossEntropyLoss\n",
    "import torch\n",
    "fc1 = CLinear(3,3,bias=False)\n",
    "fc1.op.weight.data = torch.Tensor(list(range(1,10))).view(fc1.op.weight.shape) * 0.1\n",
    "# fc1.op.bias.data = torch.zeros_like(fc1.op.bias)\n",
    "fc2 = CLinear(3,3,bias=False)\n",
    "fc2.op.weight.data = torch.Tensor(list(range(9,0,-1))).view(fc2.op.weight.shape) * 0.1\n",
    "fc2.op.weight.data[0,0] = 2\n",
    "# fc2.op.bias.data = torch.zeros_like(fc2.op.bias)\n",
    "relu = torch.nn.ReLU()\n",
    "criteria = CCrossEntropyLoss()\n",
    "optimizer = torch.optim.SGD(list(fc1.parameters()) + list(fc2.parameters()), 1e-1)\n",
    "\n",
    "# for _ in range(1000):\n",
    "#     optimizer.zero_grad()\n",
    "#     x = torch.Tensor([[1,2,3]])\n",
    "#     xS = torch.zeros_like(x)\n",
    "#     labels = torch.LongTensor([0])\n",
    "\n",
    "#     x1, xS1 = fc1(x, xS)\n",
    "#     x1.retain_grad()\n",
    "#     xS1.retain_grad()\n",
    "#     x2, xS2 = relu(x1, xS1)\n",
    "#     x2.retain_grad()\n",
    "#     xS2.retain_grad()\n",
    "#     x3, xS3 = fc2(x2, xS2)\n",
    "#     x3.retain_grad()\n",
    "#     xS3.retain_grad()\n",
    "\n",
    "#     loss = criteria(x3, xS3, labels)\n",
    "#     loss.backward()\n",
    "#     optimizer.step()\n",
    "\n",
    "optimizer = torch.optim.SGD(list(fc1.parameters()) + list(fc2.parameters()), 0)\n",
    "optimizer.zero_grad()\n",
    "x = torch.Tensor([[1,2,3]])\n",
    "x = torch.Tensor([[1,2,3], [1,2,3]])\n",
    "xS = torch.zeros_like(x)\n",
    "labels = torch.LongTensor([0])\n",
    "labels = torch.LongTensor([0,0])\n",
    "\n",
    "x1 = fc1(x)\n",
    "x2 = relu(x1)\n",
    "x3 = fc2(x2)\n",
    "\n",
    "loss = criteria(x3, labels)\n",
    "loss.backward()\n",
    "optimizer.step()\n",
    "print(loss)"
   ]
  },
  {
   "cell_type": "code",
   "execution_count": 2,
   "metadata": {},
   "outputs": [
    {
     "output_type": "stream",
     "name": "stdout",
     "text": [
      "torch.Size([2, 3])\n"
     ]
    }
   ],
   "source": [
    "S3 = criteria.Cbackward(x3)\n",
    "S1 = fc2.Cbackward(S3)\n",
    "S0 = fc1.Cbackward(S1)"
   ]
  },
  {
   "cell_type": "code",
   "execution_count": 7,
   "metadata": {},
   "outputs": [
    {
     "output_type": "execute_result",
     "data": {
      "text/plain": [
       "tensor([[[0.0249, 0.0056, 0.0056],\n",
       "         [0.0056, 0.0013, 0.0013],\n",
       "         [0.0056, 0.0013, 0.0013]],\n",
       "\n",
       "        [[0.0249, 0.0056, 0.0056],\n",
       "         [0.0056, 0.0013, 0.0013],\n",
       "         [0.0056, 0.0013, 0.0013]]], grad_fn=<UnsafeViewBackward>)"
      ]
     },
     "metadata": {},
     "execution_count": 7
    }
   ],
   "source": [
    "S1"
   ]
  },
  {
   "cell_type": "code",
   "execution_count": 5,
   "metadata": {},
   "outputs": [
    {
     "output_type": "execute_result",
     "data": {
      "text/plain": [
       "tensor([[0.0498, 0.0112, 0.0112, 0.0112, 0.0026, 0.0026, 0.0112, 0.0026, 0.0026],\n",
       "        [0.0996, 0.0224, 0.0224, 0.0224, 0.0052, 0.0052, 0.0224, 0.0052, 0.0052],\n",
       "        [0.1494, 0.0336, 0.0336, 0.0336, 0.0078, 0.0078, 0.0336, 0.0078, 0.0078],\n",
       "        [0.0996, 0.0224, 0.0224, 0.0224, 0.0052, 0.0052, 0.0224, 0.0052, 0.0052],\n",
       "        [0.1992, 0.0448, 0.0448, 0.0448, 0.0104, 0.0104, 0.0448, 0.0104, 0.0104],\n",
       "        [0.2988, 0.0672, 0.0672, 0.0672, 0.0155, 0.0155, 0.0672, 0.0155, 0.0155],\n",
       "        [0.1494, 0.0336, 0.0336, 0.0336, 0.0078, 0.0078, 0.0336, 0.0078, 0.0078],\n",
       "        [0.2988, 0.0672, 0.0672, 0.0672, 0.0155, 0.0155, 0.0672, 0.0155, 0.0155],\n",
       "        [0.4483, 0.1008, 0.1008, 0.1008, 0.0233, 0.0233, 0.1008, 0.0233, 0.0233]],\n",
       "       grad_fn=<MmBackward>)"
      ]
     },
     "metadata": {},
     "execution_count": 5
    }
   ],
   "source": [
    "fc1.gradWS"
   ]
  },
  {
   "cell_type": "code",
   "execution_count": 6,
   "metadata": {},
   "outputs": [
    {
     "output_type": "execute_result",
     "data": {
      "text/plain": [
       "tensor([[0.0498, 0.0224, 0.0336],\n",
       "        [0.0224, 0.0104, 0.0155],\n",
       "        [0.0336, 0.0155, 0.0233]], grad_fn=<ViewBackward>)"
      ]
     },
     "metadata": {},
     "execution_count": 6
    }
   ],
   "source": [
    "fc1.weightS.grad"
   ]
  },
  {
   "cell_type": "code",
   "execution_count": 18,
   "metadata": {},
   "outputs": [
    {
     "output_type": "stream",
     "name": "stdout",
     "text": [
      "tensor([[2.3877e-38],\n        [3.6013e-43]])\ntensor([[2.3877e-38, 2.3877e-38, 2.3877e-38],\n        [3.6013e-43, 3.6013e-43, 3.6013e-43]])\n"
     ]
    },
    {
     "output_type": "execute_result",
     "data": {
      "text/plain": [
       "tensor([[0., 0., 0.],\n",
       "        [0., 0., 0.]])"
      ]
     },
     "metadata": {},
     "execution_count": 18
    }
   ],
   "source": [
    "a = torch.Tensor(2,3)\n",
    "b = torch.Tensor(2).unsqueeze(1)\n",
    "print(b)\n",
    "b = b.expand_as(a)\n",
    "print(b)\n",
    "a / b"
   ]
  },
  {
   "cell_type": "code",
   "execution_count": 20,
   "metadata": {},
   "outputs": [],
   "source": [
    "import torch\n",
    "from torch import nn\n",
    "from Cmodules import CMaxpool2D, CReLU\n",
    "from Cmodels import CMLP3\n",
    "model = CMLP3()\n",
    "a = torch.randn(2,28,28)\n",
    "labels = torch.LongTensor([2,5])\n",
    "criteria = nn.CrossEntropyLoss()\n",
    "optimizer = torch.optim.SGD(model.parameters(), lr=1e-3)\n",
    "optimizer.zero_grad()\n",
    "o = model(a)\n",
    "loss = criteria(o, labels)\n",
    "loss.backward()\n",
    "optimizer.step()\n",
    "# model.Cbackward(o)"
   ]
  },
  {
   "cell_type": "code",
   "execution_count": 48,
   "metadata": {},
   "outputs": [],
   "source": [
    "fc = nn.Linear(2,3,bias=False)\n",
    "fc.weight.data = torch.Tensor([[1,2],[2,3],[3,4]])\n",
    "x = torch.Tensor([[1,2]])\n",
    "y = fc(x)"
   ]
  },
  {
   "cell_type": "code",
   "execution_count": 49,
   "metadata": {},
   "outputs": [],
   "source": [
    "def C_cross_entropy_back(output):\n",
    "    with torch.no_grad():\n",
    "        BS = output.shape[0]\n",
    "        e3 = (output - output.max()).exp()\n",
    "        e3_sum = e3.sum(dim=1).unsqueeze(1).expand_as(e3)\n",
    "        ratio = (e3 / e3_sum).view(BS,1,-1)\n",
    "        return (torch.diag_embed(ratio.view(BS,-1),0,1) - ratio.swapaxes(1,2).bmm(ratio))\n",
    "oS = C_cross_entropy_back(y)"
   ]
  },
  {
   "cell_type": "code",
   "execution_count": 50,
   "metadata": {},
   "outputs": [
    {
     "output_type": "stream",
     "name": "stdout",
     "text": [
      "tensor([[[ 0.0024, -0.0001, -0.0022],\n         [-0.0001,  0.0451, -0.0450],\n         [-0.0022, -0.0450,  0.0472]]])\ntensor([[ 5.,  8., 11.]], grad_fn=<MmBackward>)\n"
     ]
    }
   ],
   "source": [
    "print(oS)\n",
    "print(y)"
   ]
  },
  {
   "cell_type": "code",
   "execution_count": 51,
   "metadata": {},
   "outputs": [],
   "source": [
    "BS = x.shape[0]\n",
    "IN = x.view(BS,1,-1)\n",
    "G = IN.swapaxes(1,2).bmm(IN).view(BS,-1).t().mm(oS.view(BS,-1))"
   ]
  },
  {
   "cell_type": "code",
   "execution_count": 60,
   "metadata": {},
   "outputs": [],
   "source": [
    "T = G.view(2,2,3,3).swapaxes(0,2).swapaxes(0,1).reshape(6,6).numpy()"
   ]
  },
  {
   "cell_type": "code",
   "execution_count": 63,
   "metadata": {},
   "outputs": [
    {
     "output_type": "stream",
     "name": "stdout",
     "text": [
      "0.002350 -0.000111 -0.002239 0.004700 -0.000223 -0.004477 \n-0.000111 0.045076 -0.044964 -0.000223 0.090151 -0.089928 \n-0.002239 -0.044964 0.047203 -0.004477 -0.089928 0.094405 \n0.004700 -0.000223 -0.004477 0.009400 -0.000446 -0.008955 \n-0.000223 0.090151 -0.089928 -0.000446 0.180302 -0.179856 \n-0.004477 -0.089928 0.094405 -0.008955 -0.179856 0.188811 \n"
     ]
    }
   ],
   "source": [
    "for i in range(6):\n",
    "    for j in range(6):\n",
    "        print(f\"{T[i,j]:3f} \",end=\"\")\n",
    "    print()"
   ]
  },
  {
   "cell_type": "code",
   "execution_count": null,
   "metadata": {},
   "outputs": [],
   "source": []
  }
 ]
}