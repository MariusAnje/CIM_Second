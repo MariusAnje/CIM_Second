{
 "cells": [
  {
   "cell_type": "code",
   "execution_count": 3,
   "metadata": {},
   "outputs": [],
   "source": [
    "import torch\r\n",
    "import torchvision\r\n",
    "from torch import optim\r\n",
    "import torchvision.transforms as transforms\r\n",
    "import numpy as np\r\n",
    "from Cmodels import CMLP3, CMLP4\r\n",
    "from tqdm.notebook import tqdm\r\n",
    "import time\r\n",
    "import argparse\r\n",
    "import os\r\n",
    "\r\n",
    "def eval():\r\n",
    "    total = 0\r\n",
    "    correct = 0\r\n",
    "    model.clear_noise()\r\n",
    "    model.clear_mask()\r\n",
    "    with torch.no_grad():\r\n",
    "        for images, labels in trainloader:\r\n",
    "            images, labels = images.to(device), labels.to(device)\r\n",
    "            # images = images.view(-1, 784)\r\n",
    "            outputs = model(images)\r\n",
    "            predictions = outputs.argmax(dim=1)\r\n",
    "            correction = predictions == labels\r\n",
    "            correct += correction.sum()\r\n",
    "            total += len(correction)\r\n",
    "    return correct/total\r\n",
    "\r\n",
    "def eval_noise(var):\r\n",
    "    total = 0\r\n",
    "    correct = 0\r\n",
    "    model.clear_noise()\r\n",
    "\r\n",
    "    with torch.no_grad():\r\n",
    "        model.set_noise(var)\r\n",
    "        for images, labels in testloader:\r\n",
    "            images, labels = images.to(device), labels.to(device)\r\n",
    "            # images = images.view(-1, 784)\r\n",
    "            outputs = model(images)\r\n",
    "            predictions = outputs.argmax(dim=1)\r\n",
    "            correction = predictions == labels\r\n",
    "            correct += correction.sum()\r\n",
    "            total += len(correction)\r\n",
    "    return (correct/total).cpu().numpy()\r\n",
    "\r\n",
    "def train(epochs, header, verbose=False):\r\n",
    "    best_acc = 0.0\r\n",
    "    for i in range(epochs):\r\n",
    "        running_loss = 0.\r\n",
    "        running_l = 0.\r\n",
    "        for images, labels in trainloader:\r\n",
    "            optimizer.zero_grad()\r\n",
    "            images, labels = images.to(device), labels.to(device)\r\n",
    "            # images = images.view(-1, 784)\r\n",
    "            outputs = model(images)\r\n",
    "            loss = criteria(outputs,labels)\r\n",
    "            loss.backward()\r\n",
    "            optimizer.step()\r\n",
    "            running_loss += loss.item()\r\n",
    "        test_acc = eval()\r\n",
    "        if test_acc > best_acc:\r\n",
    "            best_acc = test_acc\r\n",
    "            torch.save(model.state_dict(), f\"tmp_best_{header}.pt\")\r\n",
    "        if verbose:\r\n",
    "            print(f\"epoch: {i:-3d}, test acc: {test_acc:.4f}, loss: {running_loss / len(trainloader):.4f}\")\r\n",
    "        scheduler.step()\r\n",
    "\r\n",
    "def GetSecond():\r\n",
    "    model.clear_noise()\r\n",
    "    optimizer.zero_grad()\r\n",
    "    for images, labels in tqdm(trainloader):\r\n",
    "        images, labels = images.to(device), labels.to(device)\r\n",
    "        # images = images.view(-1, 784)\r\n",
    "        outputs = model(images)\r\n",
    "        model.Cbackward(outputs)\r\n",
    "\r\n",
    "def str2bool(a):\r\n",
    "    if a == \"True\":\r\n",
    "        return True\r\n",
    "    elif a == \"False\":\r\n",
    "        return False\r\n",
    "    else:\r\n",
    "        raise NotImplementedError(f\"{a}\")\r\n"
   ]
  },
  {
   "cell_type": "code",
   "execution_count": 4,
   "metadata": {},
   "outputs": [
    {
     "name": "stdout",
     "output_type": "stream",
     "text": [
      "epoch:   0, test acc: 0.9515, loss: 0.2952\n",
      "epoch:   1, test acc: 0.9661, loss: 0.1522\n",
      "epoch:   2, test acc: 0.9640, loss: 0.1265\n",
      "epoch:   3, test acc: 0.9653, loss: 0.1134\n",
      "epoch:   4, test acc: 0.9717, loss: 0.1054\n",
      "epoch:   5, test acc: 0.9773, loss: 0.1005\n",
      "epoch:   6, test acc: 0.9719, loss: 0.0899\n",
      "epoch:   7, test acc: 0.9770, loss: 0.0882\n",
      "epoch:   8, test acc: 0.9752, loss: 0.0831\n",
      "epoch:   9, test acc: 0.9762, loss: 0.0825\n",
      "No mask no noise: 0.9773\n",
      "No mask noise average acc: 0.8101, std: 0.0000\n"
     ]
    }
   ],
   "source": [
    "header = time.time()\r\n",
    "header_timer = header\r\n",
    "parent_path = \"./\"\r\n",
    "\r\n",
    "device = torch.device(\"cpu\")\r\n",
    "# device = torch.device(\"cuda:0\")\r\n",
    "\r\n",
    "BS = 128\r\n",
    "\r\n",
    "trainset = torchvision.datasets.MNIST(root='~/Private/data', train=True,\r\n",
    "                                        download=False, transform=transforms.ToTensor())\r\n",
    "trainloader = torch.utils.data.DataLoader(trainset, batch_size=BS,\r\n",
    "                                        shuffle=True, num_workers=2)\r\n",
    "\r\n",
    "testset = torchvision.datasets.MNIST(root='~/Private/data', train=False,\r\n",
    "                                    download=False, transform=transforms.ToTensor())\r\n",
    "testloader = torch.utils.data.DataLoader(testset, batch_size=BS,\r\n",
    "                                            shuffle=False, num_workers=2)\r\n",
    "model = CMLP3()\r\n",
    "model.to(device)\r\n",
    "model.push_S_device()\r\n",
    "model.clear_noise()\r\n",
    "model.clear_mask()\r\n",
    "criteria = torch.nn.CrossEntropyLoss()\r\n",
    "\r\n",
    "optimizer = optim.Adam(model.parameters(), lr=0.01)\r\n",
    "scheduler = optim.lr_scheduler.MultiStepLR(optimizer, [20])\r\n",
    "pretrained = False\r\n",
    "verbose = True\r\n",
    "train_epoch = 10\r\n",
    "noise_epoch = 1\r\n",
    "noise_var = 0.2\r\n",
    "\r\n",
    "if not pretrained:\r\n",
    "    train(train_epoch, header, verbose)\r\n",
    "    state_dict = torch.load(f\"tmp_best_{header}.pt\")\r\n",
    "    model.load_state_dict(state_dict)\r\n",
    "    torch.save(model.state_dict(), f\"saved_B_{header}.pt\")\r\n",
    "\r\n",
    "    no_mask_acc_list = []\r\n",
    "    state_dict = torch.load(f\"saved_B_{header}.pt\")\r\n",
    "    print(f\"No mask no noise: {eval():.4f}\")\r\n",
    "    model.load_state_dict(state_dict)\r\n",
    "    model.clear_mask()\r\n",
    "    loader = range(noise_epoch)\r\n",
    "    for _ in loader:\r\n",
    "        acc = eval_noise(noise_var)\r\n",
    "        no_mask_acc_list.append(acc)\r\n",
    "    print(f\"No mask noise average acc: {np.mean(no_mask_acc_list):.4f}, std: {np.std(no_mask_acc_list):.4f}\")\r\n",
    "    torch.save(no_mask_acc_list, f\"no_mask_list_{header}.pt\")"
   ]
  },
  {
   "cell_type": "code",
   "execution_count": 5,
   "metadata": {},
   "outputs": [
    {
     "data": {
      "application/vnd.jupyter.widget-view+json": {
       "model_id": "250e74d53f8a45c2ae3074de6ccd85eb",
       "version_major": 2,
       "version_minor": 0
      },
      "text/plain": [
       "HBox(children=(HTML(value=''), FloatProgress(value=0.0, max=469.0), HTML(value='')))"
      ]
     },
     "metadata": {},
     "output_type": "display_data"
    },
    {
     "name": "stdout",
     "output_type": "stream",
     "text": [
      "\n"
     ]
    }
   ],
   "source": [
    "GetSecond()"
   ]
  },
  {
   "cell_type": "code",
   "execution_count": 7,
   "metadata": {},
   "outputs": [],
   "source": [
    "th = model.calc_S_grad_th(0.001)\r\n",
    "model.set_mask(th, mode=\"th\")"
   ]
  },
  {
   "cell_type": "code",
   "execution_count": 9,
   "metadata": {},
   "outputs": [
    {
     "data": {
      "text/plain": [
       "tensor(21418.8262)"
      ]
     },
     "execution_count": 9,
     "metadata": {},
     "output_type": "execute_result"
    }
   ],
   "source": [
    "model.fc1.weightS.max()"
   ]
  },
  {
   "cell_type": "code",
   "execution_count": 3,
   "metadata": {},
   "outputs": [
    {
     "ename": "AttributeError",
     "evalue": "'CMLP4' object has no attribute 'graph'",
     "output_type": "error",
     "traceback": [
      "\u001b[1;31m---------------------------------------------------------------------------\u001b[0m",
      "\u001b[1;31mAttributeError\u001b[0m                            Traceback (most recent call last)",
      "\u001b[1;32m<ipython-input-3-8fb4f34ed0cf>\u001b[0m in \u001b[0;36m<module>\u001b[1;34m\u001b[0m\n\u001b[1;32m----> 1\u001b[1;33m \u001b[0mmodel\u001b[0m\u001b[1;33m.\u001b[0m\u001b[0mgraph\u001b[0m\u001b[1;33m\u001b[0m\u001b[1;33m\u001b[0m\u001b[0m\n\u001b[0m",
      "\u001b[1;32m~\\Anaconda3\\lib\\site-packages\\torch\\nn\\modules\\module.py\u001b[0m in \u001b[0;36m__getattr__\u001b[1;34m(self, name)\u001b[0m\n\u001b[0;32m    946\u001b[0m                 \u001b[1;32mreturn\u001b[0m \u001b[0mmodules\u001b[0m\u001b[1;33m[\u001b[0m\u001b[0mname\u001b[0m\u001b[1;33m]\u001b[0m\u001b[1;33m\u001b[0m\u001b[1;33m\u001b[0m\u001b[0m\n\u001b[0;32m    947\u001b[0m         raise AttributeError(\"'{}' object has no attribute '{}'\".format(\n\u001b[1;32m--> 948\u001b[1;33m             type(self).__name__, name))\n\u001b[0m\u001b[0;32m    949\u001b[0m \u001b[1;33m\u001b[0m\u001b[0m\n\u001b[0;32m    950\u001b[0m     \u001b[1;32mdef\u001b[0m \u001b[0m__setattr__\u001b[0m\u001b[1;33m(\u001b[0m\u001b[0mself\u001b[0m\u001b[1;33m,\u001b[0m \u001b[0mname\u001b[0m\u001b[1;33m:\u001b[0m \u001b[0mstr\u001b[0m\u001b[1;33m,\u001b[0m \u001b[0mvalue\u001b[0m\u001b[1;33m:\u001b[0m \u001b[0mUnion\u001b[0m\u001b[1;33m[\u001b[0m\u001b[0mTensor\u001b[0m\u001b[1;33m,\u001b[0m \u001b[1;34m'Module'\u001b[0m\u001b[1;33m]\u001b[0m\u001b[1;33m)\u001b[0m \u001b[1;33m->\u001b[0m \u001b[1;32mNone\u001b[0m\u001b[1;33m:\u001b[0m\u001b[1;33m\u001b[0m\u001b[1;33m\u001b[0m\u001b[0m\n",
      "\u001b[1;31mAttributeError\u001b[0m: 'CMLP4' object has no attribute 'graph'"
     ]
    }
   ],
   "source": [
    "\r\n",
    "else:\r\n",
    "    parent_path = args.model_path\r\n",
    "    header = args.header\r\n",
    "    no_mask_acc_list = torch.load(os.path.join(parent_path, f\"no_mask_list_{header}.pt\"))\r\n",
    "    print(f\"No mask noise average acc: {np.mean(no_mask_acc_list):.4f}, std: {np.std(no_mask_acc_list):.4f}\")\r\n",
    "    model.back_real(device)\r\n",
    "    model.push_S_device()\r\n",
    "\r\n",
    "\r\n",
    "state_dict = torch.load(os.path.join(parent_path, f\"saved_B_{header}.pt\"), map_location=device)\r\n",
    "model.load_state_dict(state_dict)\r\n",
    "model.back_real(device)\r\n",
    "model.push_S_device()\r\n",
    "criteria = SCrossEntropyLoss()\r\n",
    "optimizer = optim.Adam(model.parameters(), lr=0.01)\r\n",
    "scheduler = optim.lr_scheduler.MultiStepLR(optimizer, [20])\r\n",
    "model.clear_noise()\r\n",
    "GetSecond()\r\n",
    "print(f\"S grad before masking: {model.fetch_S_grad().item():E}\")\r\n",
    "\r\n",
    "if args.use_mask:\r\n",
    "    mask_acc_list = []\r\n",
    "    th = model.calc_S_grad_th(args.mask_p)\r\n",
    "    model.set_mask(th, mode=\"th\")\r\n",
    "    print(f\"with mask no noise: {Seval():.4f}\")\r\n",
    "    # GetSecond()\r\n",
    "    print(f\"S grad after  masking: {model.fetch_S_grad().item():E}\")\r\n",
    "    GetSecond()\r\n",
    "    print(f\"S grad after  masking: {model.fetch_S_grad().item():E}\")\r\n",
    "    # loader = range(args.noise_epoch)\r\n",
    "    # for _ in loader:\r\n",
    "    #     acc = Seval_noise(args.noise_var)\r\n",
    "    #     mask_acc_list.append(acc)\r\n",
    "    # print(f\"With mask noise average acc: {np.mean(mask_acc_list):.4f}, std: {np.std(mask_acc_list):.4f}\")\r\n",
    "    \r\n",
    "    optimizer = optim.SGD(model.parameters(), lr=1e-3)\r\n",
    "    scheduler = optim.lr_scheduler.MultiStepLR(optimizer, [20])\r\n",
    "    STrain(args.fine_epoch, header_timer, args.verbose)\r\n",
    "\r\n",
    "    if args.save_file:\r\n",
    "        torch.save(model.state_dict(), f\"saved_A_{header}_{header_timer}.pt\")\r\n",
    "    fine_mask_acc_list = []\r\n",
    "    print(f\"Finetune no noise: {Seval():.4f}\")\r\n",
    "    loader = range(args.noise_epoch)\r\n",
    "    for _ in loader:\r\n",
    "        acc = Seval_noise(args.noise_var)\r\n",
    "        fine_mask_acc_list.append(acc)\r\n",
    "    print(f\"Finetune noise average acc: {np.mean(fine_mask_acc_list):.4f}, std: {np.std(fine_mask_acc_list):.4f}\")\r\n",
    "    model.clear_noise()\r\n",
    "    GetSecond()\r\n",
    "    print(f\"S grad after finetune: {model.fetch_S_grad().item():E}\")\r\n",
    "    os.system(f\"rm tmp_best_{header_timer}.pt\")"
   ]
  },
  {
   "cell_type": "code",
   "execution_count": null,
   "metadata": {},
   "outputs": [],
   "source": []
  }
 ],
 "metadata": {
  "interpreter": {
   "hash": "04f3ce0738d928d74413a2b10d0d4c487f39bbf2ffd0e3f43a6ab028b956cd75"
  },
  "kernelspec": {
   "display_name": "Python 3.7.4 64-bit ('base': conda)",
   "name": "python3"
  },
  "language_info": {
   "codemirror_mode": {
    "name": "ipython",
    "version": 3
   },
   "file_extension": ".py",
   "mimetype": "text/x-python",
   "name": "python",
   "nbconvert_exporter": "python",
   "pygments_lexer": "ipython3",
   "version": "3.7.4"
  },
  "orig_nbformat": 4
 },
 "nbformat": 4,
 "nbformat_minor": 2
}