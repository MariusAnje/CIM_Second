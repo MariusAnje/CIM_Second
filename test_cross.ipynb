{
 "cells": [
  {
   "cell_type": "code",
   "execution_count": 1,
   "metadata": {},
   "outputs": [],
   "source": [
    "import torch\r\n",
    "from Cmodels import CMLP3"
   ]
  },
  {
   "cell_type": "code",
   "execution_count": 4,
   "metadata": {},
   "outputs": [],
   "source": [
    "# device = torch.device(\"cuda:0\")\r\n",
    "device = torch.device(\"cpu\")\r\n",
    "model = CMLP3()\r\n",
    "model.to(device)\r\n",
    "model.push_S_device()\r\n",
    "for i in range(10):\r\n",
    "    x = torch.randn(128,28,28).to(device)\r\n",
    "    y = model(x)\r\n",
    "    model.Cbackward(y)"
   ]
  },
  {
   "cell_type": "code",
   "execution_count": 5,
   "metadata": {},
   "outputs": [
    {
     "data": {
      "text/plain": [
       "tensor([[4.7242, 4.5043, 7.5759,  ..., 7.1786, 3.2944, 5.1989],\n",
       "        [6.1170, 4.0984, 4.3291,  ..., 6.8522, 3.1869, 2.6778],\n",
       "        [4.9012, 4.1826, 7.2937,  ..., 7.3184, 3.6886, 5.3323],\n",
       "        ...,\n",
       "        [6.7485, 4.9246, 4.8515,  ..., 6.6635, 2.8859, 2.5176],\n",
       "        [4.1888, 4.2129, 7.4234,  ..., 7.1664, 3.6949, 5.1006],\n",
       "        [6.2267, 4.2299, 4.5062,  ..., 6.5325, 3.1695, 2.4808]])"
      ]
     },
     "execution_count": 5,
     "metadata": {},
     "output_type": "execute_result"
    }
   ],
   "source": [
    "model.fc1.weightS"
   ]
  },
  {
   "cell_type": "code",
   "execution_count": null,
   "metadata": {},
   "outputs": [],
   "source": []
  }
 ],
 "metadata": {
  "interpreter": {
   "hash": "04f3ce0738d928d74413a2b10d0d4c487f39bbf2ffd0e3f43a6ab028b956cd75"
  },
  "kernelspec": {
   "display_name": "Python 3.7.4 64-bit ('base': conda)",
   "name": "python3"
  },
  "language_info": {
   "codemirror_mode": {
    "name": "ipython",
    "version": 3
   },
   "file_extension": ".py",
   "mimetype": "text/x-python",
   "name": "python",
   "nbconvert_exporter": "python",
   "pygments_lexer": "ipython3",
   "version": "3.7.4"
  },
  "orig_nbformat": 4
 },
 "nbformat": 4,
 "nbformat_minor": 2
}