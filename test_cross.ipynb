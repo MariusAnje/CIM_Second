{
 "cells": [
  {
   "cell_type": "code",
   "execution_count": 1,
   "metadata": {},
   "outputs": [],
   "source": [
    "import torch\n",
    "from modules import SConv2d, SLinear, SModel, SReLU\n",
    "from models import SCrossEntropyLoss"
   ]
  },
  {
   "cell_type": "code",
   "execution_count": 2,
   "metadata": {
    "tags": []
   },
   "outputs": [
    {
     "name": "stdout",
     "output_type": "stream",
     "text": [
      "tensor(0.0126, grad_fn=<SCrossEntropyLossFunctionBackward>)\n"
     ]
    }
   ],
   "source": [
    "fc1 = SLinear(3,3,bias=False)\r\n",
    "fc1.op.weight.data = torch.Tensor(list(range(1,10))).view(fc1.op.weight.shape) * 0.1\r\n",
    "# fc1.op.bias.data = torch.zeros_like(fc1.op.bias)\r\n",
    "fc2 = SLinear(3,3,bias=False)\r\n",
    "fc2.op.weight.data = torch.Tensor(list(range(9,0,-1))).view(fc2.op.weight.shape) * 0.1\r\n",
    "fc2.op.weight.data[0,0] = 2\r\n",
    "# fc2.op.bias.data = torch.zeros_like(fc2.op.bias)\r\n",
    "relu = SReLU()\r\n",
    "criteria = SCrossEntropyLoss()\r\n",
    "optimizer = torch.optim.SGD(list(fc1.parameters()) + list(fc2.parameters()), 1e-1)\r\n",
    "\r\n",
    "# for _ in range(1000):\r\n",
    "#     optimizer.zero_grad()\r\n",
    "#     x = torch.Tensor([[1,2,3]])\r\n",
    "#     xS = torch.zeros_like(x)\r\n",
    "#     labels = torch.LongTensor([0])\r\n",
    "\r\n",
    "#     x1, xS1 = fc1(x, xS)\r\n",
    "#     x1.retain_grad()\r\n",
    "#     xS1.retain_grad()\r\n",
    "#     x2, xS2 = relu(x1, xS1)\r\n",
    "#     x2.retain_grad()\r\n",
    "#     xS2.retain_grad()\r\n",
    "#     x3, xS3 = fc2(x2, xS2)\r\n",
    "#     x3.retain_grad()\r\n",
    "#     xS3.retain_grad()\r\n",
    "\r\n",
    "#     loss = criteria(x3, xS3, labels)\r\n",
    "#     loss.backward()\r\n",
    "#     optimizer.step()\r\n",
    "\r\n",
    "optimizer = torch.optim.SGD(list(fc1.parameters()) + list(fc2.parameters()), 0)\r\n",
    "optimizer.zero_grad()\r\n",
    "x = torch.Tensor([[1,2,3]])\r\n",
    "xS = torch.zeros_like(x)\r\n",
    "labels = torch.LongTensor([0])\r\n",
    "\r\n",
    "x1, xS1 = fc1(x, xS)\r\n",
    "x1.retain_grad()\r\n",
    "xS1.retain_grad()\r\n",
    "x2, xS2 = relu(x1, xS1)\r\n",
    "x2.retain_grad()\r\n",
    "xS2.retain_grad()\r\n",
    "x3, xS3 = fc2(x2, xS2)\r\n",
    "x3.retain_grad()\r\n",
    "xS3.retain_grad()\r\n",
    "\r\n",
    "loss = criteria(x3, xS3, labels)\r\n",
    "loss.backward()\r\n",
    "optimizer.step()\r\n",
    "print(loss)"
   ]
  },
  {
   "cell_type": "code",
   "execution_count": 3,
   "metadata": {},
   "outputs": [],
   "source": [
    "# x3SG = torch.Tensor([[0.0123928,-0.0117341,-0.000658689,-0.0117341,0.011742,-7.92681E-6,-0.000658689,-7.92681E-6,0.000666616]]).view(1,3,3)\n",
    "# x1SG = torch.Tensor([[0.0249031,0.00560088,0.00560088,0.00560088,0.00129391,0.00129391,0.00560088,0.00129391,0.00129391]]).view(1,3,3)"
   ]
  },
  {
   "cell_type": "code",
   "execution_count": 3,
   "metadata": {},
   "outputs": [
    {
     "data": {
      "text/plain": [
       "tensor([[0.0539, 0.2154, 0.4847],\n",
       "        [0.0109, 0.0436, 0.0980],\n",
       "        [0.0080, 0.0318, 0.0716]])"
      ]
     },
     "execution_count": 3,
     "metadata": {},
     "output_type": "execute_result"
    }
   ],
   "source": [
    "fc1.weightS.grad"
   ]
  },
  {
   "cell_type": "code",
   "execution_count": 4,
   "metadata": {},
   "outputs": [],
   "source": [
    "def CECross(output):\r\n",
    "    BS = output.shape[0]\r\n",
    "    e3 = (output - output.max()).exp()\r\n",
    "    e3_sum = e3.sum(dim=1).unsqueeze(1).expand_as(e3)\r\n",
    "    ratio = (e3 / e3_sum).view(BS,1,-1)\r\n",
    "\r\n",
    "    return (torch.diag_embed(ratio.view(BS,-1),0,1) - ratio.swapaxes(1,2).bmm(ratio))\r\n",
    "x3SG = CECross(x3)"
   ]
  },
  {
   "cell_type": "code",
   "execution_count": 7,
   "metadata": {},
   "outputs": [],
   "source": [
    "x1SG = fc2.op.weight.t().matmul(x3SG).matmul(fc2.op.weight)"
   ]
  },
  {
   "cell_type": "code",
   "execution_count": 8,
   "metadata": {},
   "outputs": [],
   "source": [
    "def crossSecond(IN, outS):\r\n",
    "    BS = IN.shape[0]\r\n",
    "    IN = IN.view(BS,1,-1)\r\n",
    "    return IN.swapaxes(1,2).bmm(IN).view(BS,-1).t().mm(outS.view(BS,-1)).view(3,3,3,3).swapaxes(0,2).swapaxes(0,1).reshape(9,9)\r\n",
    "fc1WSG = crossSecond(x,  x1SG)\r\n",
    "fc2WSG = crossSecond(x2, x3SG)"
   ]
  },
  {
   "cell_type": "code",
   "execution_count": 9,
   "metadata": {},
   "outputs": [
    {
     "data": {
      "text/plain": [
       "tensor([[0.0249, 0.0056, 0.0056, 0.0498, 0.0112, 0.0112, 0.0747, 0.0168, 0.0168],\n",
       "        [0.0056, 0.0013, 0.0013, 0.0112, 0.0026, 0.0026, 0.0168, 0.0039, 0.0039],\n",
       "        [0.0056, 0.0013, 0.0013, 0.0112, 0.0026, 0.0026, 0.0168, 0.0039, 0.0039],\n",
       "        [0.0498, 0.0112, 0.0112, 0.0996, 0.0224, 0.0224, 0.1494, 0.0336, 0.0336],\n",
       "        [0.0112, 0.0026, 0.0026, 0.0224, 0.0052, 0.0052, 0.0336, 0.0078, 0.0078],\n",
       "        [0.0112, 0.0026, 0.0026, 0.0224, 0.0052, 0.0052, 0.0336, 0.0078, 0.0078],\n",
       "        [0.0747, 0.0168, 0.0168, 0.1494, 0.0336, 0.0336, 0.2241, 0.0504, 0.0504],\n",
       "        [0.0168, 0.0039, 0.0039, 0.0336, 0.0078, 0.0078, 0.0504, 0.0116, 0.0116],\n",
       "        [0.0168, 0.0039, 0.0039, 0.0336, 0.0078, 0.0078, 0.0504, 0.0116, 0.0116]],\n",
       "       grad_fn=<UnsafeViewBackward>)"
      ]
     },
     "execution_count": 9,
     "metadata": {},
     "output_type": "execute_result"
    }
   ],
   "source": [
    "fc1WSG"
   ]
  },
  {
   "cell_type": "code",
   "execution_count": 10,
   "metadata": {},
   "outputs": [
    {
     "data": {
      "text/plain": [
       "tensor([[ 2.4290e-02, -2.2999e-02, -1.2910e-03,  5.5519e-02, -5.2569e-02,\n",
       "         -2.9509e-03,  8.6749e-02, -8.2138e-02, -4.6108e-03],\n",
       "        [-2.2999e-02,  2.3014e-02, -1.5537e-05, -5.2569e-02,  5.2604e-02,\n",
       "         -3.5512e-05, -8.2138e-02,  8.2194e-02, -5.5488e-05],\n",
       "        [-1.2910e-03, -1.5537e-05,  1.3066e-03, -2.9509e-03, -3.5512e-05,\n",
       "          2.9864e-03, -4.6108e-03, -5.5488e-05,  4.6663e-03],\n",
       "        [ 5.5519e-02, -5.2569e-02, -2.9509e-03,  1.2690e-01, -1.2016e-01,\n",
       "         -6.7450e-03,  1.9828e-01, -1.8774e-01, -1.0539e-02],\n",
       "        [-5.2569e-02,  5.2604e-02, -3.5512e-05, -1.2016e-01,  1.2024e-01,\n",
       "         -8.1170e-05, -1.8774e-01,  1.8787e-01, -1.2683e-04],\n",
       "        [-2.9509e-03, -3.5512e-05,  2.9864e-03, -6.7450e-03, -8.1170e-05,\n",
       "          6.8261e-03, -1.0539e-02, -1.2683e-04,  1.0666e-02],\n",
       "        [ 8.6749e-02, -8.2138e-02, -4.6108e-03,  1.9828e-01, -1.8774e-01,\n",
       "         -1.0539e-02,  3.0982e-01, -2.9335e-01, -1.6467e-02],\n",
       "        [-8.2138e-02,  8.2194e-02, -5.5488e-05, -1.8774e-01,  1.8787e-01,\n",
       "         -1.2683e-04, -2.9335e-01,  2.9355e-01, -1.9817e-04],\n",
       "        [-4.6108e-03, -5.5488e-05,  4.6663e-03, -1.0539e-02, -1.2683e-04,\n",
       "          1.0666e-02, -1.6467e-02, -1.9817e-04,  1.6665e-02]],\n",
       "       grad_fn=<UnsafeViewBackward>)"
      ]
     },
     "execution_count": 10,
     "metadata": {},
     "output_type": "execute_result"
    }
   ],
   "source": [
    "fc2WSG"
   ]
  },
  {
   "cell_type": "code",
   "execution_count": 13,
   "metadata": {},
   "outputs": [
    {
     "data": {
      "text/plain": [
       "tensor([[0.0539, 0.2154, 0.4847],\n",
       "        [0.0109, 0.0436, 0.0980],\n",
       "        [0.0080, 0.0318, 0.0716]])"
      ]
     },
     "execution_count": 13,
     "metadata": {},
     "output_type": "execute_result"
    }
   ],
   "source": [
    "fc1.weightS.grad"
   ]
  },
  {
   "cell_type": "code",
   "execution_count": 12,
   "metadata": {},
   "outputs": [
    {
     "data": {
      "text/plain": [
       "tensor([[0.0249, 0.0013, 0.0013],\n",
       "        [0.0996, 0.0052, 0.0052],\n",
       "        [0.2241, 0.0116, 0.0116]], grad_fn=<ViewBackward>)"
      ]
     },
     "execution_count": 12,
     "metadata": {},
     "output_type": "execute_result"
    }
   ],
   "source": [
    "fc1WSG.view(9,9).diag().view(3,3)"
   ]
  },
  {
   "cell_type": "code",
   "execution_count": null,
   "metadata": {},
   "outputs": [],
   "source": []
  }
 ],
 "metadata": {
  "interpreter": {
   "hash": "04f3ce0738d928d74413a2b10d0d4c487f39bbf2ffd0e3f43a6ab028b956cd75"
  },
  "kernelspec": {
   "display_name": "Python 3.7.4 64-bit ('base': conda)",
   "name": "python3"
  },
  "language_info": {
   "codemirror_mode": {
    "name": "ipython",
    "version": 3
   },
   "file_extension": ".py",
   "mimetype": "text/x-python",
   "name": "python",
   "nbconvert_exporter": "python",
   "pygments_lexer": "ipython3",
   "version": "3.7.4"
  },
  "orig_nbformat": 4
 },
 "nbformat": 4,
 "nbformat_minor": 2
}