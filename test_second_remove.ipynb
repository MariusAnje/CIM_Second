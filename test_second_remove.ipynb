{
 "cells": [
  {
   "cell_type": "code",
   "execution_count": 1,
   "source": [
    "import torch\n",
    "import torchvision\n",
    "from torch import optim\n",
    "import torchvision.transforms as transforms\n",
    "import numpy as np\n",
    "from models import SCrossEntropyLoss, SMLP3, SMLP4, SLeNet, FakeSCrossEntropyLoss\n",
    "from modules import SModule\n",
    "from tqdm import tqdm\n",
    "import time\n",
    "import argparse\n",
    "import os\n",
    "import numpy as np\n",
    "\n",
    "def mask_por():\n",
    "    total = 0\n",
    "    out = 0\n",
    "    for m in model.modules():\n",
    "        if isinstance(m, SModule):\n",
    "            total += torch.prod(torch.Tensor(list(m.mask.shape))).item()\n",
    "            out += (m.mask == 0).sum()\n",
    "    return out / total\n",
    "\n",
    "def eval():\n",
    "    total = 0\n",
    "    correct = 0\n",
    "    model.clear_noise()\n",
    "    model.clear_mask()\n",
    "    with torch.no_grad():\n",
    "        for images, labels in trainloader:\n",
    "            images, labels = images.to(device), labels.to(device)\n",
    "            # images = images.view(-1, 784)\n",
    "            outputs = model(images)\n",
    "            predictions = outputs.argmax(dim=1)\n",
    "            correction = predictions == labels\n",
    "            correct += correction.sum()\n",
    "            total += len(correction)\n",
    "    return (correct/total).item()\n",
    "\n",
    "def Seval():\n",
    "    total = 0\n",
    "    correct = 0\n",
    "    with torch.no_grad():\n",
    "        model.clear_noise()\n",
    "        for images, labels in testloader:\n",
    "            images, labels = images.to(device), labels.to(device)\n",
    "            # images = images.view(-1, 784)\n",
    "            outputs = model(images)\n",
    "            predictions = outputs[0].argmax(dim=1)\n",
    "            correction = predictions == labels\n",
    "            correct += correction.sum()\n",
    "            total += len(correction)\n",
    "    return (correct/total).item()\n",
    "\n",
    "def Seval_noise(var):\n",
    "    total = 0\n",
    "    correct = 0\n",
    "    model.clear_noise()\n",
    "\n",
    "    with torch.no_grad():\n",
    "        model.set_noise(var)\n",
    "        for images, labels in testloader:\n",
    "            images, labels = images.to(device), labels.to(device)\n",
    "            # images = images.view(-1, 784)\n",
    "            outputs = model(images)\n",
    "            predictions = outputs[0].argmax(dim=1)\n",
    "            correction = predictions == labels\n",
    "            correct += correction.sum()\n",
    "            total += len(correction)\n",
    "    return (correct/total).item()\n",
    "\n",
    "def STrain(epochs, header, verbose=False):\n",
    "    best_acc = 0.0\n",
    "    for i in range(epochs):\n",
    "        running_loss = 0.\n",
    "        running_l = 0.\n",
    "        for images, labels in trainloader:\n",
    "            optimizer.zero_grad()\n",
    "            images, labels = images.to(device), labels.to(device)\n",
    "            # images = images.view(-1, 784)\n",
    "            outputs, outputsS = model(images)\n",
    "            loss = criteria(outputs, outputsS,labels)\n",
    "            loss.backward()\n",
    "            l = loss + model.fetch_S_grad()\n",
    "            optimizer.step()\n",
    "            running_loss += loss.item()\n",
    "            running_l += l.item()\n",
    "        test_acc = Seval()\n",
    "        if test_acc > best_acc:\n",
    "            best_acc = test_acc\n",
    "            torch.save(model.state_dict(), f\"tmp_best_{header}.pt\")\n",
    "        if verbose:\n",
    "            print(f\"epoch: {i:-3d}, test acc: {test_acc:.4f}, loss: {running_loss / len(trainloader):.4f}, s: {(running_l - running_loss) / len(trainloader):-5.4f}\")\n",
    "        scheduler.step()\n",
    "\n",
    "def GetSecond():\n",
    "    model.clear_noise()\n",
    "    optimizer.zero_grad()\n",
    "    for images, labels in trainloader:\n",
    "        images, labels = images.to(device), labels.to(device)\n",
    "        # images = images.view(-1, 784)\n",
    "        outputs = model(images)\n",
    "        loss = criteria(outputs,labels)\n",
    "        loss.backward()\n",
    "\n",
    "def str2bool(a):\n",
    "    if a == \"True\":\n",
    "        return True\n",
    "    elif a == \"False\":\n",
    "        return False\n",
    "    else:\n",
    "        raise NotImplementedError(f\"{a}\")"
   ],
   "outputs": [],
   "metadata": {}
  },
  {
   "cell_type": "code",
   "execution_count": 2,
   "source": [
    "header = time.time()\n",
    "header_timer = header\n",
    "parent_path = \"./\"\n",
    "train_epoch = 20\n",
    "verbose = True\n",
    "\n",
    "device = torch.device(\"cuda:0\" if torch.cuda.is_available() else \"cpu\")\n",
    "\n",
    "BS = 128\n",
    "\n",
    "trainset = torchvision.datasets.MNIST(root='~/Private/data', train=True,\n",
    "                                        download=False, transform=transforms.ToTensor())\n",
    "trainloader = torch.utils.data.DataLoader(trainset, batch_size=BS,\n",
    "                                        shuffle=True, num_workers=2)\n",
    "\n",
    "testset = torchvision.datasets.MNIST(root='~/Private/data', train=False,\n",
    "                                    download=False, transform=transforms.ToTensor())\n",
    "testloader = torch.utils.data.DataLoader(testset, batch_size=BS,\n",
    "                                            shuffle=False, num_workers=2)\n",
    "model = SLeNet()\n",
    "\n",
    "model.to(device)\n",
    "model.push_S_device()\n",
    "model.clear_noise()\n",
    "model.clear_mask()\n",
    "criteria = SCrossEntropyLoss()\n"
   ],
   "outputs": [],
   "metadata": {}
  },
  {
   "cell_type": "code",
   "execution_count": 6,
   "source": [
    "optimizer = optim.Adam(model.parameters(), lr=0.01)\n",
    "scheduler = optim.lr_scheduler.MultiStepLR(optimizer, [20])\n",
    "pretrained = True\n",
    "parent_path = \"./pretrained\"\n",
    "header = 6\n",
    "\n",
    "state_dict = torch.load(os.path.join(parent_path, f\"saved_B_{header}.pt\"), map_location=device)\n",
    "model.load_state_dict(state_dict, strict=False)\n",
    "model.push_S_device()\n",
    "criteria = SCrossEntropyLoss()\n",
    "optimizer = optim.Adam(model.parameters(), lr=0.01)\n",
    "scheduler = optim.lr_scheduler.MultiStepLR(optimizer, [20])\n",
    "model.clear_noise()\n",
    "GetSecond()\n",
    "print(f\"S grad before masking: {model.fetch_S_grad().item():E}\")"
   ],
   "outputs": [
    {
     "output_type": "stream",
     "name": "stdout",
     "text": [
      "S grad before masking: 1.891138E+06\n"
     ]
    }
   ],
   "metadata": {}
  },
  {
   "cell_type": "code",
   "execution_count": 3,
   "source": [
    "p_list = np.arange(0, 1, 0.01)\n",
    "model.clear_mask()\n",
    "print(f\"no mask no noise: {Seval():.4f}\")"
   ],
   "outputs": [
    {
     "output_type": "stream",
     "name": "stdout",
     "text": [
      "no mask no noise: 0.9920\n"
     ]
    }
   ],
   "metadata": {}
  },
  {
   "cell_type": "code",
   "execution_count": 4,
   "source": [
    "sail_th_acc_list = []\n",
    "for i in p_list:\n",
    "# for i in [0.8]:\n",
    "    model.clear_mask()\n",
    "    mask_p = i\n",
    "    th = model.calc_sail_th(1 - mask_p)\n",
    "    model.set_mask_sail(th, mode=\"th\")\n",
    "    for m in model.modules():\n",
    "        if isinstance(m, SModule):\n",
    "            m.mask = 1 - m.mask\n",
    "    acc = Seval()\n",
    "    sail_th_acc_list.append(acc)"
   ],
   "outputs": [],
   "metadata": {}
  },
  {
   "cell_type": "code",
   "execution_count": 5,
   "source": [
    "sail_pt_acc_list = []\n",
    "for i in p_list:\n",
    "    model.clear_mask()\n",
    "    mask_p = i\n",
    "    model.set_mask_sail(1-i, mode=\"portion\")\n",
    "    for m in model.modules():\n",
    "        if isinstance(m, SModule):\n",
    "            m.mask = 1 - m.mask\n",
    "    acc = Seval()\n",
    "    sail_pt_acc_list.append(acc)"
   ],
   "outputs": [],
   "metadata": {}
  },
  {
   "cell_type": "code",
   "execution_count": 6,
   "source": [
    "s_th_acc_list = []\n",
    "for i in p_list:\n",
    "    model.clear_mask()\n",
    "    mask_p = i\n",
    "    th = model.calc_S_grad_th(1 - mask_p)\n",
    "    model.set_mask(th, mode=\"th\")\n",
    "    for m in model.modules():\n",
    "        if isinstance(m, SModule):\n",
    "            m.mask = 1 - m.mask\n",
    "    acc = Seval()\n",
    "    s_th_acc_list.append(acc)\n",
    "# print(s_th_acc_list)"
   ],
   "outputs": [],
   "metadata": {}
  },
  {
   "cell_type": "code",
   "execution_count": 7,
   "source": [
    "s_pt_acc_list = []\n",
    "for i in p_list:\n",
    "    model.clear_mask()\n",
    "    mask_p = i\n",
    "    th = model.calc_S_grad_th(1 - mask_p)\n",
    "    model.set_mask(1-i, mode=\"portion\")\n",
    "    for m in model.modules():\n",
    "        if isinstance(m, SModule):\n",
    "            m.mask = 1 - m.mask\n",
    "    acc = Seval()\n",
    "    s_pt_acc_list.append(acc)\n",
    "# print(s_pt_acc_list)"
   ],
   "outputs": [],
   "metadata": {}
  },
  {
   "cell_type": "code",
   "execution_count": 8,
   "source": [
    "m_pt_acc_list = []\n",
    "for i in p_list:\n",
    "    model.clear_mask()\n",
    "    mask_p = i\n",
    "    th = model.calc_S_grad_th(1 - mask_p)\n",
    "    model.set_mask_mag(1-i, mode=\"portion\")\n",
    "    for m in model.modules():\n",
    "        if isinstance(m, SModule):\n",
    "            m.mask = 1 - m.mask\n",
    "    acc = Seval()\n",
    "    m_pt_acc_list.append(acc)\n",
    "# print(m_pt_acc_list)"
   ],
   "outputs": [],
   "metadata": {}
  },
  {
   "cell_type": "code",
   "execution_count": 13,
   "source": [
    "from matplotlib import pyplot as plt\n",
    "plt.plot(p_list, sail_th_acc_list)\n",
    "plt.plot(p_list, sail_pt_acc_list)\n",
    "plt.plot(p_list, s_th_acc_list)\n",
    "plt.plot(p_list, s_pt_acc_list)\n",
    "plt.plot(p_list, m_pt_acc_list)\n",
    "plt.legend([\"sail th\", \"sail pt\", \"second th\", \"second pt\", \"mag pt\"])\n",
    "plt.savefig(\"obd.svg\")"
   ],
   "outputs": [
    {
     "output_type": "display_data",
     "data": {
      "image/png": "[encoded data removed]",
      "text/plain": [
       "<Figure size 432x288 with 1 Axes>"
      ]
     },
     "metadata": {
      "needs_background": "light"
     }
    }
   ],
   "metadata": {}
  },
  {
   "cell_type": "code",
   "execution_count": 1,
   "source": [
    "import torch\r\n",
    "import numpy as np"
   ],
   "outputs": [],
   "metadata": {}
  },
  {
   "cell_type": "code",
   "execution_count": 17,
   "source": [
    "sail_th_acc_list, sail_pt_acc_list, s_th_acc_list, s_pt_acc_list, m_pt_acc_list = torch.load(\"obd.pt\")\r\n",
    "p_list = np.arange(0, 1, 0.01)"
   ],
   "outputs": [],
   "metadata": {}
  },
  {
   "cell_type": "code",
   "execution_count": 21,
   "source": [
    "from matplotlib import pyplot as plt\r\n",
    "plt.plot(p_list, sail_th_acc_list)\r\n",
    "# plt.plot(p_list, sail_pt_acc_list)\r\n",
    "plt.plot(p_list, s_th_acc_list)\r\n",
    "# plt.plot(p_list, s_pt_acc_list)\r\n",
    "plt.plot(p_list, m_pt_acc_list)\r\n",
    "plt.legend([\"saliency\", \"second order\", \"magnitude\"], fontsize=12)\r\n",
    "plt.xlim(0.4,1.03)\r\n",
    "plt.xlabel(\"Proportion of weights removed\", fontsize=12)\r\n",
    "plt.ylabel(\"Accuracy\", fontsize=12)\r\n",
    "plt.savefig(\"obd.svg\")"
   ],
   "outputs": [
    {
     "output_type": "display_data",
     "data": {
      "image/png": "[encoded data removed]",
      "text/plain": [
       "<Figure size 432x288 with 1 Axes>"
      ]
     },
     "metadata": {
      "needs_background": "light"
     }
    }
   ],
   "metadata": {}
  },
  {
   "cell_type": "code",
   "execution_count": null,
   "source": [],
   "outputs": [],
   "metadata": {}
  },
  {
   "cell_type": "code",
   "execution_count": null,
   "source": [],
   "outputs": [],
   "metadata": {}
  }
 ],
 "metadata": {
  "interpreter": {
   "hash": "8775ead45cd722ea8a4c7c74215d2f64c2c40d0e28c86b8154e49caf9c5419e8"
  },
  "kernelspec": {
   "name": "python3",
   "display_name": "Python 3.8.12 64-bit ('py38': conda)"
  },
  "language_info": {
   "codemirror_mode": {
    "name": "ipython",
    "version": 3
   },
   "file_extension": ".py",
   "mimetype": "text/x-python",
   "name": "python",
   "nbconvert_exporter": "python",
   "pygments_lexer": "ipython3",
   "version": "3.8.12"
  },
  "orig_nbformat": 2
 },
 "nbformat": 4,
 "nbformat_minor": 2
}